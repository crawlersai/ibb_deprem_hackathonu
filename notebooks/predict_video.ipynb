{
 "cells": [
  {
   "cell_type": "code",
   "execution_count": null,
   "metadata": {
    "colab": {
     "base_uri": "https://localhost:8080/",
     "height": 68
    },
    "colab_type": "code",
    "executionInfo": {
     "elapsed": 6012,
     "status": "ok",
     "timestamp": 1590942066401,
     "user": {
      "displayName": "mehmet emin öztürk",
      "photoUrl": "",
      "userId": "10906724645083332039"
     },
     "user_tz": -180
    },
    "id": "bWa5kcO4Wxlj",
    "outputId": "06182ce1-2dee-457a-8fbe-5f73c827f4a7",
    "scrolled": false
   },
   "outputs": [],
   "source": [
    "from tensorflow.keras.applications import VGG16\n",
    "from tensorflow.keras.layers import Dropout, Flatten, Dense, Input\n",
    "from tensorflow.keras.models import Model\n",
    "from tensorflow.keras.optimizers import SGD\n",
    "from sklearn.preprocessing import LabelBinarizer\n",
    "from imutils import paths\n",
    "import matplotlib.pyplot as plt\n",
    "import numpy as np\n",
    "from collections import deque\n",
    "import cv2\n",
    "import sys\n",
    "import os\n",
    "import gc\n",
    "import matplotlib\n",
    "matplotlib.use(\"Agg\")"
   ]
  },
  {
   "cell_type": "code",
   "execution_count": null,
   "metadata": {},
   "outputs": [],
   "source": [
    "VIDEO_PATH = \"path/to/video.mp4\"\n",
    "VIDEO_OUTPUT =\"path/to/output_video.avi\"\n",
    "model_location = 'path/to/model.h5'"
   ]
  },
  {
   "cell_type": "code",
   "execution_count": null,
   "metadata": {},
   "outputs": [],
   "source": [
    "def get_model():\n",
    "    # load the VGG16 network, ensuring the head FC layer sets are left \n",
    "    baseModel = VGG16(weights=\"imagenet\", include_top=False,input_tensor=Input(shape=(224, 224, 3)))\n",
    "\n",
    "    headModel = baseModel.output\n",
    "    headModel = Flatten(name=\"flatten\")(headModel)\n",
    "    headModel = Dense(512, activation=\"relu\")(headModel)\n",
    "    headModel = Dropout(0.5)(headModel)\n",
    "    headModel = Dense(1, activation=\"sigmoid\")(headModel)\n",
    "\n",
    "    model = Model(inputs=baseModel.input, outputs=headModel)\n",
    "\n",
    "    # loop over all layers in the base model and freeze them so they will\n",
    "    # *not* be updated during the first training process\n",
    "    for layer in baseModel.layers:\n",
    "        layer.trainable = False\n",
    "\n",
    "    # compile our model (this needs to be done after our setting our\n",
    "    # layers to being non-trainable\n",
    "    print(\"[INFO] Model yükleniyor...\")\n",
    "    opt = SGD(lr=1e-6, momentum=0.9)\n",
    "    model.compile(loss=\"binary_crossentropy\", optimizer=opt,metrics=[\"accuracy\"])\n",
    "    return model"
   ]
  },
  {
   "cell_type": "code",
   "execution_count": null,
   "metadata": {},
   "outputs": [],
   "source": [
    "model = get_model()\n",
    "model.load_weights(model_location)"
   ]
  },
  {
   "cell_type": "code",
   "execution_count": null,
   "metadata": {
    "colab": {
     "base_uri": "https://localhost:8080/",
     "height": 51
    },
    "colab_type": "code",
    "executionInfo": {
     "elapsed": 229366,
     "status": "ok",
     "timestamp": 1590942289773,
     "user": {
      "displayName": "mehmet emin öztürk",
      "photoUrl": "",
      "userId": "10906724645083332039"
     },
     "user_tz": -180
    },
    "id": "AglNxidit4Y2",
    "outputId": "99ef6339-bc3f-4438-b046-b4576a58b0a8"
   },
   "outputs": [],
   "source": [
    "Q = deque(maxlen=128)\n",
    "print(\"[INFO] Video İşleniyor...\")\n",
    "vs = cv2.VideoCapture(VIDEO_PATH)\n",
    "writer = None\n",
    "(W, H) = (None, None)\n",
    " \n",
    "counter = 0\n",
    "while True:\n",
    "    counter+=1\n",
    "\n",
    "    (grabbed, frame) = vs.read()\n",
    "\n",
    "    if not grabbed:\n",
    "        break\n",
    "\n",
    "    if W is None or H is None:\n",
    "        (H, W) = frame.shape[:2]\n",
    "\n",
    "    output = frame.copy()\n",
    "    frame = cv2.cvtColor(frame, cv2.COLOR_BGR2RGB)\n",
    "    frame = cv2.resize(frame, (224, 224))\n",
    "    frame = frame.astype(\"float32\")\n",
    "\n",
    "    preds = model.predict(np.expand_dims(frame, axis=0))[0]\n",
    "    Q.append(preds)\n",
    "\n",
    "    results = np.array(Q).mean(axis=0)[0] \n",
    "\n",
    "    text = f\"Hasar Ihtimali %{np.round(results*100,2)}\"\n",
    "    cv2.putText(output, text, (35, 50), cv2.FONT_HERSHEY_SIMPLEX,1.25, (0, 255, 0), 5)\n",
    "\n",
    "    if writer is None:\n",
    "        fourcc = cv2.VideoWriter_fourcc(*\"MJPG\")\n",
    "        writer = cv2.VideoWriter(VIDEO_OUTPUT, fourcc, 30,(W, H), True)\n",
    "\n",
    "    writer.write(output)\n",
    " \n",
    "print(\"[INFO] Video Oluşturuldu...\")\n",
    "writer.release()\n",
    "vs.release()"
   ]
  }
 ],
 "metadata": {
  "accelerator": "GPU",
  "colab": {
   "collapsed_sections": [],
   "name": "video.ipynb",
   "provenance": []
  },
  "kernelspec": {
   "display_name": "Python 3",
   "language": "python",
   "name": "python3"
  },
  "language_info": {
   "codemirror_mode": {
    "name": "ipython",
    "version": 3
   },
   "file_extension": ".py",
   "mimetype": "text/x-python",
   "name": "python",
   "nbconvert_exporter": "python",
   "pygments_lexer": "ipython3",
   "version": "3.7.3"
  }
 },
 "nbformat": 4,
 "nbformat_minor": 1
}
