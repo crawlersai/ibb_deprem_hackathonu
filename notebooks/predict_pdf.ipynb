{
 "cells": [
  {
   "cell_type": "markdown",
   "metadata": {},
   "source": [
    "Bu notebook kullanıcıdan bir adet resimler içeren klasör alır. Bütün resimler öncelikle geliştirdiğimiz makine öğrenmesine sokulur. Çıktı olarak ise resimler ve resimlerin hasarlı olma ihtimallerinin bulunduğu bir pdf oluşturabilirsiniz. Oluşturulan PDF'te resimler hasar ihtimali en yüksekten en düşüğe doğru sıralanacaklardır. Ayrıca IPython Widget'ları ile notebook üzerinden resimleri tek tek inceleyebilirsiniz (Bunun için notebook'u uygun bir ortamda (lokalinizde veya Colab gibi) çalıştırmanız gerekir)."
   ]
  },
  {
   "cell_type": "code",
   "execution_count": 51,
   "metadata": {},
   "outputs": [],
   "source": [
    "from tensorflow.keras.applications import VGG16\n",
    "from tensorflow.keras.layers import Dropout\n",
    "from tensorflow.keras.layers import Flatten\n",
    "from tensorflow.keras.layers import Dense\n",
    "from tensorflow.keras.layers import Input\n",
    "from tensorflow.keras.models import Model\n",
    "from tensorflow.keras.optimizers import SGD\n",
    "from tensorflow.keras.models import load_model\n",
    "\n",
    "import os\n",
    "from collections import deque\n",
    "import numpy as np\n",
    "import argparse\n",
    "import cv2\n",
    "\n",
    "from fpdf import FPDF\n",
    "\n",
    "import matplotlib.pyplot as plt\n",
    "from ipywidgets import interact, interactive, fixed, interact_manual\n",
    "import ipywidgets as widgets"
   ]
  },
  {
   "cell_type": "markdown",
   "metadata": {},
   "source": [
    "* imagefolder: Resşmlerinizi içeren klasör.\n",
    "* output_file: Çıktı olarak oluşturulacak PDF.\n",
    "* model_location: Önceden eğitilmiş modeli ağırlıkları (.h5)"
   ]
  },
  {
   "cell_type": "code",
   "execution_count": 76,
   "metadata": {},
   "outputs": [],
   "source": [
    "imagefolder = 'path/to/images/folder/'\n",
    "output_file = 'path/to/output.pdf'\n",
    "model_location = 'path/to/model.h5'"
   ]
  },
  {
   "cell_type": "markdown",
   "metadata": {},
   "source": [
    "Eğitimde kullanılan model"
   ]
  },
  {
   "cell_type": "code",
   "execution_count": 72,
   "metadata": {},
   "outputs": [],
   "source": [
    "def get_model():\n",
    "    # load the VGG16 network, ensuring the head FC layer sets are left\n",
    "    # off\n",
    "    baseModel = VGG16(weights=\"imagenet\", include_top=False,input_tensor=Input(shape=(224, 224, 3)))\n",
    "\n",
    "    # construct the head of the model that will be placed on top of the\n",
    "    # the base model\n",
    "    headModel = baseModel.output\n",
    "    headModel = Flatten(name=\"flatten\")(headModel)\n",
    "    headModel = Dense(512, activation=\"relu\")(headModel)\n",
    "    headModel = Dropout(0.5)(headModel)\n",
    "    headModel = Dense(1, activation=\"sigmoid\")(headModel)\n",
    "\n",
    "    # place the head FC model on top of the base model (this will become\n",
    "    # the actual model we will train)\n",
    "    model = Model(inputs=baseModel.input, outputs=headModel)\n",
    "\n",
    "    # loop over all layers in the base model and freeze them so they will\n",
    "    # *not* be updated during the first training process\n",
    "    for layer in baseModel.layers:\n",
    "        layer.trainable = False\n",
    "\n",
    "    # compile our model (this needs to be done after our setting our\n",
    "    # layers to being non-trainable\n",
    "    print(\"[INFO] compiling model...\")\n",
    "    opt = SGD(lr=1e-6, momentum=0.9)\n",
    "    model.compile(loss=\"binary_crossentropy\", optimizer=opt,metrics=[\"accuracy\"])\n",
    "    return model"
   ]
  },
  {
   "cell_type": "markdown",
   "metadata": {},
   "source": [
    "Modelin önceden eğitilmiş ağırlıklarını yüklüyoruz."
   ]
  },
  {
   "cell_type": "code",
   "execution_count": 73,
   "metadata": {},
   "outputs": [
    {
     "name": "stdout",
     "output_type": "stream",
     "text": [
      "[INFO] compiling model...\n"
     ]
    }
   ],
   "source": [
    "model = get_model()\n",
    "model.load_weights(model_location)"
   ]
  },
  {
   "cell_type": "markdown",
   "metadata": {},
   "source": [
    "Tahmler oluşturuluyor."
   ]
  },
  {
   "cell_type": "code",
   "execution_count": 74,
   "metadata": {},
   "outputs": [
    {
     "name": "stdout",
     "output_type": "stream",
     "text": [
      "[INFO] Generating Predictions...\n"
     ]
    }
   ],
   "source": [
    "print(\"[INFO] Generating Predictions...\")\n",
    "preds = []\n",
    "filename_list = []\n",
    "\n",
    "for filename in os.listdir(imagefolder):\n",
    "    #print(filename, end=' ')\n",
    "    filename_list.append(filename)\n",
    "    preds_temp = []\n",
    "    frame = cv2.imread(imagefolder+\"//\"+filename)\n",
    "    frame = cv2.cvtColor(frame, cv2.COLOR_BGR2RGB)\n",
    "    output = frame.copy()\n",
    "    frame = cv2.resize(frame, (224, 224))\n",
    "    frame = frame.astype(\"float32\")\n",
    "    preds.append((output, model.predict(np.expand_dims(frame, axis=0))[0][0]))\n",
    "    \n",
    "preds = np.array(preds)"
   ]
  },
  {
   "cell_type": "markdown",
   "metadata": {},
   "source": [
    "Resimleri ve tahminlerini içeren PDF oluşturuluyor. Oluşturulan PDF'te resimler hasar ihtimali en yüksekten en düşüğe doğru sıralanacaklardır."
   ]
  },
  {
   "cell_type": "code",
   "execution_count": 77,
   "metadata": {},
   "outputs": [
    {
     "name": "stdout",
     "output_type": "stream",
     "text": [
      "[INFO] Generating \"hasar_oranlari.pdf\" ...\n"
     ]
    },
    {
     "data": {
      "text/plain": [
       "''"
      ]
     },
     "execution_count": 77,
     "metadata": {},
     "output_type": "execute_result"
    }
   ],
   "source": [
    "print(\"[INFO] Generating PDF\" ...\")\n",
    "\n",
    "pdf = FPDF()\n",
    "pdf.add_page()\n",
    "pdf.set_font(\"Arial\", size=20, style='B')\n",
    "pdf.cell(190, 10, txt=\"HASAR ORANLARI\", ln=1, align=\"C\")\n",
    "pdf.set_font(\"Arial\", size=12)\n",
    "\n",
    "\n",
    "for i, f_id in enumerate(preds[:,1].argsort()[::-1]):\n",
    "    if(i % 2 == 0):\n",
    "        if(i != 0):\n",
    "            pdf.add_page()\n",
    "            pdf.ln(10)\n",
    "        pdf.image(imagefolder+filename_list[f_id], x=55, y=30, w=100, h=100)\n",
    "        pdf.ln(110)\n",
    "    else:\n",
    "        pdf.image(imagefolder+filename_list[f_id], x=55, y=160, w=100, h=100)\n",
    "        pdf.ln(120)\n",
    "    pdf.cell(190, 10, txt=\"Hasar Ihtimali: %{:.2f}\".format(preds[f_id][1]*100), ln=1, align='C')\n",
    "\n",
    "pdf.output(output_file)"
   ]
  },
  {
   "cell_type": "markdown",
   "metadata": {},
   "source": [
    "Bu widget ile resimlerinizi ve hasar oranlarını altalta sırayla görebilirsiniz. Resimler hasar ihtimali en yüksekten en düşüğe doğru sıralanmışlardır."
   ]
  },
  {
   "cell_type": "code",
   "execution_count": 68,
   "metadata": {},
   "outputs": [],
   "source": [
    "def pred_img_widget(resim):\n",
    "    i = preds[:,1].argsort()[::-1][resim]\n",
    "    plt.figure(figsize=(10,10))\n",
    "    plt.axis(\"off\")\n",
    "    plt.imshow(preds[i][0])\n",
    "    plt.show()\n",
    "    print(\"Hasar Ihtimali: %{:.2f}\".format(preds[i][1]*100))"
   ]
  },
  {
   "cell_type": "code",
   "execution_count": 69,
   "metadata": {
    "scrolled": false
   },
   "outputs": [
    {
     "data": {
      "application/vnd.jupyter.widget-view+json": {
       "model_id": "5179b679b62a41cea24695c4268d15b0",
       "version_major": 2,
       "version_minor": 0
      },
      "text/plain": [
       "interactive(children=(IntSlider(value=2, description='resim', max=4), Output()), _dom_classes=('widget-interac…"
      ]
     },
     "metadata": {},
     "output_type": "display_data"
    },
    {
     "data": {
      "text/plain": [
       "<function __main__.pred_img_widget(resim)>"
      ]
     },
     "execution_count": 69,
     "metadata": {},
     "output_type": "execute_result"
    }
   ],
   "source": [
    "interact(pred_img_widget, resim=(0,len(preds)-1))"
   ]
  },
  {
   "cell_type": "markdown",
   "metadata": {},
   "source": [
    "Bu widget ile resimlerinizi hasar ihtimalleri üzerlerine basılmış şekilde sırayla görebilirsiniz. Resimler hasar ihtimali en yüksekten en düşüğe doğru sıralanmışlardır."
   ]
  },
  {
   "cell_type": "code",
   "execution_count": 61,
   "metadata": {},
   "outputs": [],
   "source": [
    "def pred_img_txt_widget(resim):\n",
    "    i = preds[:,1].argsort()[::-1][resim]\n",
    "    output = preds[i][0]\n",
    "    prediction = preds[i][1]\n",
    "    \n",
    "    text = \"Hasar Ihtimali: %{:.2f}\".format(prediction*100)\n",
    "    x_coord = output.shape[1]//20\n",
    "    y_coord = output.shape[0]//10\n",
    "    font_scale = output.shape[1]/1000\n",
    "    font_thickness = output.shape[1]//200\n",
    "    cv2.putText(output, text, (x_coord, y_coord), cv2.FONT_HERSHEY_SIMPLEX, font_scale, (0, 255, 0), font_thickness)\n",
    "    \n",
    "    plt.figure(figsize=(10,10))\n",
    "    plt.axis(\"off\")\n",
    "    plt.imshow(output)\n",
    "    plt.show()"
   ]
  },
  {
   "cell_type": "code",
   "execution_count": 62,
   "metadata": {},
   "outputs": [
    {
     "data": {
      "application/vnd.jupyter.widget-view+json": {
       "model_id": "f6af3a1a84b4471282570a12a01cc4e7",
       "version_major": 2,
       "version_minor": 0
      },
      "text/plain": [
       "interactive(children=(IntSlider(value=2, description='resim', max=4), Output()), _dom_classes=('widget-interac…"
      ]
     },
     "metadata": {},
     "output_type": "display_data"
    },
    {
     "data": {
      "text/plain": [
       "<function __main__.pred_img_txt_widget(resim)>"
      ]
     },
     "execution_count": 62,
     "metadata": {},
     "output_type": "execute_result"
    }
   ],
   "source": [
    "interact(pred_img_txt_widget, resim=(0,len(preds)-1))"
   ]
  }
 ],
 "metadata": {
  "accelerator": "GPU",
  "colab": {
   "collapsed_sections": [],
   "machine_shape": "hm",
   "name": "predict.ipynb",
   "provenance": []
  },
  "kernelspec": {
   "display_name": "Python [conda env:tf_env]",
   "language": "python",
   "name": "conda-env-tf_env-py"
  },
  "language_info": {
   "codemirror_mode": {
    "name": "ipython",
    "version": 3
   },
   "file_extension": ".py",
   "mimetype": "text/x-python",
   "name": "python",
   "nbconvert_exporter": "python",
   "pygments_lexer": "ipython3",
   "version": "3.7.7"
  }
 },
 "nbformat": 4,
 "nbformat_minor": 4
}
